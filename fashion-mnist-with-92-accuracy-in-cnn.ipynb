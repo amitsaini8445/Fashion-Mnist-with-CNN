{
 "cells": [
  {
   "cell_type": "markdown",
   "metadata": {
    "papermill": {
     "duration": 0.028817,
     "end_time": "2021-03-17T08:26:56.685824",
     "exception": false,
     "start_time": "2021-03-17T08:26:56.657007",
     "status": "completed"
    },
    "tags": []
   },
   "source": [
    "1. ## Introduction of the dataset\n",
    "\n",
    "Fashion-MNIST is a dataset of Zalando's article images—consisting of a training set of 60,000 examples and a test set of 10,000 examples. Each example is a 28x28 grayscale image, associated with a label from 10 classes. Zalando intends Fashion-MNIST to serve as a direct drop-in replacement for the original MNIST dataset for benchmarking machine learning algorithms. It shares the same image size and structure of training and testing splits.\n",
    "\n",
    "### Content\n",
    "Each image is 28 pixels in height and 28 pixels in width, for a total of 784 pixels in total. Each pixel has a single pixel-value associated with it, indicating the lightness or darkness of that pixel, with higher numbers meaning darker. This pixel-value is an integer between 0 and 255. The training and test data sets have 785 columns. The first column consists of the class labels (see above), and represents the article of clothing. The rest of the columns contain the pixel-values of the associated image.\n",
    "\n",
    "#### Labels\n",
    "\n",
    "Each training and test example is assigned to one of the following labels:\n",
    "\n",
    "0. T-shirt/top\n",
    "1. Trouser\n",
    "2. Pullover\n",
    "3. Dress\n",
    "4. Coat\n",
    "5. Sandal\n",
    "6. Shirt\n",
    "7. Sneaker\n",
    "8. Bag\n",
    "9. Ankle boot\n"
   ]
  },
  {
   "cell_type": "markdown",
   "metadata": {
    "papermill": {
     "duration": 0.026706,
     "end_time": "2021-03-17T08:26:56.739750",
     "exception": false,
     "start_time": "2021-03-17T08:26:56.713044",
     "status": "completed"
    },
    "tags": []
   },
   "source": [
    "## Pipeline  to build the model\n",
    "\n",
    "1. import the libraray\n",
    "2. Load the train and test data set\n",
    "3. Explore the data\n",
    "4. Preprocess the data\n",
    "5. Build the model\n",
    "6. Train the model\n",
    "7. Evalauate the model\n",
    "8. Predict the test data"
   ]
  },
  {
   "cell_type": "markdown",
   "metadata": {
    "papermill": {
     "duration": 0.027289,
     "end_time": "2021-03-17T08:26:56.795344",
     "exception": false,
     "start_time": "2021-03-17T08:26:56.768055",
     "status": "completed"
    },
    "tags": []
   },
   "source": [
    "## 1. Import the libraray"
   ]
  },
  {
   "cell_type": "code",
   "execution_count": 1,
   "metadata": {
    "_cell_guid": "b1076dfc-b9ad-4769-8c92-a6c4dae69d19",
    "_uuid": "8f2839f25d086af736a60e9eeb907d3b93b6e0e5",
    "execution": {
     "iopub.execute_input": "2021-03-17T08:26:56.852950Z",
     "iopub.status.busy": "2021-03-17T08:26:56.852233Z",
     "iopub.status.idle": "2021-03-17T08:27:03.613750Z",
     "shell.execute_reply": "2021-03-17T08:27:03.612958Z"
    },
    "papermill": {
     "duration": 6.79173,
     "end_time": "2021-03-17T08:27:03.613975",
     "exception": false,
     "start_time": "2021-03-17T08:26:56.822245",
     "status": "completed"
    },
    "tags": []
   },
   "outputs": [
    {
     "name": "stdout",
     "output_type": "stream",
     "text": [
      "/kaggle/input/fashionmnist/t10k-labels-idx1-ubyte\n",
      "/kaggle/input/fashionmnist/t10k-images-idx3-ubyte\n",
      "/kaggle/input/fashionmnist/fashion-mnist_test.csv\n",
      "/kaggle/input/fashionmnist/fashion-mnist_train.csv\n",
      "/kaggle/input/fashionmnist/train-labels-idx1-ubyte\n",
      "/kaggle/input/fashionmnist/train-images-idx3-ubyte\n"
     ]
    }
   ],
   "source": [
    "import tensorflow as tf\n",
    "import matplotlib.pyplot as plt\n",
    "import seaborn as sns\n",
    "from tensorflow import keras \n",
    "from tensorflow.keras import layers, Sequential\n",
    "from tensorflow.keras.layers import Dropout, Flatten ,Dense,BatchNormalization\n",
    "from tensorflow.keras.utils import to_categorical\n",
    "from sklearn.model_selection import train_test_split\n",
    "import numpy as np # linear algebra\n",
    "import pandas as pd # data processing, CSV file I/O (e.g. pd.read_csv)\n",
    "\n",
    "import os\n",
    "for dirname, _, filenames in os.walk('/kaggle/input'):\n",
    "    for filename in filenames:\n",
    "        print(os.path.join(dirname, filename))\n"
   ]
  },
  {
   "cell_type": "markdown",
   "metadata": {
    "papermill": {
     "duration": 0.027484,
     "end_time": "2021-03-17T08:27:03.670120",
     "exception": false,
     "start_time": "2021-03-17T08:27:03.642636",
     "status": "completed"
    },
    "tags": []
   },
   "source": [
    "## 2. Load the dataset (train and test data)"
   ]
  },
  {
   "cell_type": "code",
   "execution_count": 2,
   "metadata": {
    "execution": {
     "iopub.execute_input": "2021-03-17T08:27:03.731197Z",
     "iopub.status.busy": "2021-03-17T08:27:03.730480Z",
     "iopub.status.idle": "2021-03-17T08:27:11.746313Z",
     "shell.execute_reply": "2021-03-17T08:27:11.745749Z"
    },
    "papermill": {
     "duration": 8.048498,
     "end_time": "2021-03-17T08:27:11.746518",
     "exception": false,
     "start_time": "2021-03-17T08:27:03.698020",
     "status": "completed"
    },
    "tags": []
   },
   "outputs": [],
   "source": [
    "train_data=pd.read_csv('../input/fashionmnist/fashion-mnist_train.csv')\n",
    "test_data=pd.read_csv('../input/fashionmnist/fashion-mnist_test.csv')"
   ]
  },
  {
   "cell_type": "code",
   "execution_count": 3,
   "metadata": {
    "execution": {
     "iopub.execute_input": "2021-03-17T08:27:11.810254Z",
     "iopub.status.busy": "2021-03-17T08:27:11.809227Z",
     "iopub.status.idle": "2021-03-17T08:27:11.812842Z",
     "shell.execute_reply": "2021-03-17T08:27:11.812304Z"
    },
    "papermill": {
     "duration": 0.036777,
     "end_time": "2021-03-17T08:27:11.812979",
     "exception": false,
     "start_time": "2021-03-17T08:27:11.776202",
     "status": "completed"
    },
    "tags": []
   },
   "outputs": [],
   "source": [
    "class_names = ['T-shirt/top', 'Trouser', 'Pullover', 'Dress', 'Coat',\n",
    "               'Sandal', 'Shirt', 'Sneaker', 'Bag', 'Ankle boot']"
   ]
  },
  {
   "cell_type": "markdown",
   "metadata": {
    "papermill": {
     "duration": 0.028059,
     "end_time": "2021-03-17T08:27:11.868999",
     "exception": false,
     "start_time": "2021-03-17T08:27:11.840940",
     "status": "completed"
    },
    "tags": []
   },
   "source": [
    "## 3. Explore the data"
   ]
  },
  {
   "cell_type": "code",
   "execution_count": 4,
   "metadata": {
    "execution": {
     "iopub.execute_input": "2021-03-17T08:27:11.932154Z",
     "iopub.status.busy": "2021-03-17T08:27:11.931549Z",
     "iopub.status.idle": "2021-03-17T08:27:11.936037Z",
     "shell.execute_reply": "2021-03-17T08:27:11.935564Z"
    },
    "papermill": {
     "duration": 0.039194,
     "end_time": "2021-03-17T08:27:11.936176",
     "exception": false,
     "start_time": "2021-03-17T08:27:11.896982",
     "status": "completed"
    },
    "tags": []
   },
   "outputs": [
    {
     "data": {
      "text/plain": [
       "((60000, 785), (10000, 785))"
      ]
     },
     "execution_count": 4,
     "metadata": {},
     "output_type": "execute_result"
    }
   ],
   "source": [
    "train_data.shape, test_data.shape"
   ]
  },
  {
   "cell_type": "code",
   "execution_count": 5,
   "metadata": {
    "execution": {
     "iopub.execute_input": "2021-03-17T08:27:11.998980Z",
     "iopub.status.busy": "2021-03-17T08:27:11.998344Z",
     "iopub.status.idle": "2021-03-17T08:27:12.002188Z",
     "shell.execute_reply": "2021-03-17T08:27:12.002709Z"
    },
    "papermill": {
     "duration": 0.038316,
     "end_time": "2021-03-17T08:27:12.002882",
     "exception": false,
     "start_time": "2021-03-17T08:27:11.964566",
     "status": "completed"
    },
    "tags": []
   },
   "outputs": [
    {
     "data": {
      "text/plain": [
       "Index(['label', 'pixel1', 'pixel2', 'pixel3', 'pixel4', 'pixel5', 'pixel6',\n",
       "       'pixel7', 'pixel8', 'pixel9',\n",
       "       ...\n",
       "       'pixel775', 'pixel776', 'pixel777', 'pixel778', 'pixel779', 'pixel780',\n",
       "       'pixel781', 'pixel782', 'pixel783', 'pixel784'],\n",
       "      dtype='object', length=785)"
      ]
     },
     "execution_count": 5,
     "metadata": {},
     "output_type": "execute_result"
    }
   ],
   "source": [
    "train_data.columns"
   ]
  },
  {
   "cell_type": "code",
   "execution_count": 6,
   "metadata": {
    "execution": {
     "iopub.execute_input": "2021-03-17T08:27:12.065652Z",
     "iopub.status.busy": "2021-03-17T08:27:12.064987Z",
     "iopub.status.idle": "2021-03-17T08:27:12.068832Z",
     "shell.execute_reply": "2021-03-17T08:27:12.069314Z"
    },
    "papermill": {
     "duration": 0.038058,
     "end_time": "2021-03-17T08:27:12.069753",
     "exception": false,
     "start_time": "2021-03-17T08:27:12.031695",
     "status": "completed"
    },
    "tags": []
   },
   "outputs": [
    {
     "data": {
      "text/plain": [
       "Index(['label', 'pixel1', 'pixel2', 'pixel3', 'pixel4', 'pixel5', 'pixel6',\n",
       "       'pixel7', 'pixel8', 'pixel9',\n",
       "       ...\n",
       "       'pixel775', 'pixel776', 'pixel777', 'pixel778', 'pixel779', 'pixel780',\n",
       "       'pixel781', 'pixel782', 'pixel783', 'pixel784'],\n",
       "      dtype='object', length=785)"
      ]
     },
     "execution_count": 6,
     "metadata": {},
     "output_type": "execute_result"
    }
   ],
   "source": [
    "test_data.columns"
   ]
  },
  {
   "cell_type": "code",
   "execution_count": 7,
   "metadata": {
    "execution": {
     "iopub.execute_input": "2021-03-17T08:27:12.134366Z",
     "iopub.status.busy": "2021-03-17T08:27:12.133746Z",
     "iopub.status.idle": "2021-03-17T08:27:12.335966Z",
     "shell.execute_reply": "2021-03-17T08:27:12.335337Z"
    },
    "papermill": {
     "duration": 0.236395,
     "end_time": "2021-03-17T08:27:12.336106",
     "exception": false,
     "start_time": "2021-03-17T08:27:12.099711",
     "status": "completed"
    },
    "tags": []
   },
   "outputs": [],
   "source": [
    "train_data=np.array(train_data, dtype='float32')\n",
    "test_data=np.array(test_data, dtype='float32')"
   ]
  },
  {
   "cell_type": "code",
   "execution_count": 8,
   "metadata": {
    "execution": {
     "iopub.execute_input": "2021-03-17T08:27:12.400543Z",
     "iopub.status.busy": "2021-03-17T08:27:12.399782Z",
     "iopub.status.idle": "2021-03-17T08:27:12.402854Z",
     "shell.execute_reply": "2021-03-17T08:27:12.402326Z"
    },
    "papermill": {
     "duration": 0.037347,
     "end_time": "2021-03-17T08:27:12.402983",
     "exception": false,
     "start_time": "2021-03-17T08:27:12.365636",
     "status": "completed"
    },
    "tags": []
   },
   "outputs": [],
   "source": [
    "x_train=train_data[:, 1:]   ## independent variable becoz first column sre dependent feature (label)\n",
    "y_train=train_data[:,0]     ## dependent feature (label)\n",
    "x_test=test_data[:, 1:]\n",
    "y_test=test_data[:, 0]    "
   ]
  },
  {
   "cell_type": "code",
   "execution_count": 9,
   "metadata": {
    "execution": {
     "iopub.execute_input": "2021-03-17T08:27:12.465969Z",
     "iopub.status.busy": "2021-03-17T08:27:12.465004Z",
     "iopub.status.idle": "2021-03-17T08:27:12.471947Z",
     "shell.execute_reply": "2021-03-17T08:27:12.471262Z"
    },
    "papermill": {
     "duration": 0.039492,
     "end_time": "2021-03-17T08:27:12.472095",
     "exception": false,
     "start_time": "2021-03-17T08:27:12.432603",
     "status": "completed"
    },
    "tags": []
   },
   "outputs": [
    {
     "data": {
      "text/plain": [
       "((60000, 784), (10000, 784), (60000,), (10000,))"
      ]
     },
     "execution_count": 9,
     "metadata": {},
     "output_type": "execute_result"
    }
   ],
   "source": [
    "x_train.shape, x_test.shape, y_train.shape, y_test.shape"
   ]
  },
  {
   "cell_type": "markdown",
   "metadata": {
    "papermill": {
     "duration": 0.03033,
     "end_time": "2021-03-17T08:27:12.533009",
     "exception": false,
     "start_time": "2021-03-17T08:27:12.502679",
     "status": "completed"
    },
    "tags": []
   },
   "source": [
    "## 4. Preprocess the data\n",
    "Data must be preprocessed before the buildding the network. In the dataset , image pixel value fall in range 0 to 255.\n"
   ]
  },
  {
   "cell_type": "code",
   "execution_count": 10,
   "metadata": {
    "execution": {
     "iopub.execute_input": "2021-03-17T08:27:12.599657Z",
     "iopub.status.busy": "2021-03-17T08:27:12.598351Z",
     "iopub.status.idle": "2021-03-17T08:27:12.667516Z",
     "shell.execute_reply": "2021-03-17T08:27:12.666839Z"
    },
    "papermill": {
     "duration": 0.104385,
     "end_time": "2021-03-17T08:27:12.667658",
     "exception": false,
     "start_time": "2021-03-17T08:27:12.563273",
     "status": "completed"
    },
    "tags": []
   },
   "outputs": [],
   "source": [
    "## normalize the data\n",
    "x_train=x_train/255.0\n",
    "x_test=x_test/255.0\n"
   ]
  },
  {
   "cell_type": "code",
   "execution_count": 11,
   "metadata": {
    "execution": {
     "iopub.execute_input": "2021-03-17T08:27:12.735098Z",
     "iopub.status.busy": "2021-03-17T08:27:12.734176Z",
     "iopub.status.idle": "2021-03-17T08:27:12.737418Z",
     "shell.execute_reply": "2021-03-17T08:27:12.736800Z"
    },
    "papermill": {
     "duration": 0.039226,
     "end_time": "2021-03-17T08:27:12.737553",
     "exception": false,
     "start_time": "2021-03-17T08:27:12.698327",
     "status": "completed"
    },
    "tags": []
   },
   "outputs": [],
   "source": [
    "x_train=x_train.reshape(x_train.shape[0], 28, 28, 1)\n",
    "x_test=x_test.reshape(x_test.shape[0], 28, 28, 1)\n"
   ]
  },
  {
   "cell_type": "code",
   "execution_count": 12,
   "metadata": {
    "execution": {
     "iopub.execute_input": "2021-03-17T08:27:12.803918Z",
     "iopub.status.busy": "2021-03-17T08:27:12.803138Z",
     "iopub.status.idle": "2021-03-17T08:27:12.807439Z",
     "shell.execute_reply": "2021-03-17T08:27:12.806791Z"
    },
    "papermill": {
     "duration": 0.039495,
     "end_time": "2021-03-17T08:27:12.807597",
     "exception": false,
     "start_time": "2021-03-17T08:27:12.768102",
     "status": "completed"
    },
    "tags": []
   },
   "outputs": [
    {
     "data": {
      "text/plain": [
       "((60000, 28, 28, 1), (60000,))"
      ]
     },
     "execution_count": 12,
     "metadata": {},
     "output_type": "execute_result"
    }
   ],
   "source": [
    "x_train.shape, y_train.shape"
   ]
  },
  {
   "cell_type": "code",
   "execution_count": 13,
   "metadata": {
    "execution": {
     "iopub.execute_input": "2021-03-17T08:27:12.893854Z",
     "iopub.status.busy": "2021-03-17T08:27:12.891824Z",
     "iopub.status.idle": "2021-03-17T08:27:13.122869Z",
     "shell.execute_reply": "2021-03-17T08:27:13.122216Z"
    },
    "papermill": {
     "duration": 0.284202,
     "end_time": "2021-03-17T08:27:13.123008",
     "exception": false,
     "start_time": "2021-03-17T08:27:12.838806",
     "status": "completed"
    },
    "tags": []
   },
   "outputs": [
    {
     "data": {
      "image/png": "[encoded data removed]",
      "text/plain": [
       "<Figure size 432x288 with 2 Axes>"
      ]
     },
     "metadata": {
      "needs_background": "light"
     },
     "output_type": "display_data"
    }
   ],
   "source": [
    "plt.figure()\n",
    "plt.imshow(x_train[0])\n",
    "plt.colorbar()\n",
    "plt.grid(False)\n",
    "plt.show() \n",
    "## here pixel value are between 0 to 1"
   ]
  },
  {
   "cell_type": "code",
   "execution_count": 14,
   "metadata": {
    "execution": {
     "iopub.execute_input": "2021-03-17T08:27:13.219895Z",
     "iopub.status.busy": "2021-03-17T08:27:13.211949Z",
     "iopub.status.idle": "2021-03-17T08:27:14.296854Z",
     "shell.execute_reply": "2021-03-17T08:27:14.296230Z"
    },
    "papermill": {
     "duration": 1.142175,
     "end_time": "2021-03-17T08:27:14.296989",
     "exception": false,
     "start_time": "2021-03-17T08:27:13.154814",
     "status": "completed"
    },
    "tags": []
   },
   "outputs": [
    {
     "data": {
      "image/png": "[encoded data removed]",
      "text/plain": [
       "<Figure size 720x720 with 25 Axes>"
      ]
     },
     "metadata": {},
     "output_type": "display_data"
    }
   ],
   "source": [
    "plt.figure(figsize=(10,10))\n",
    "for i in range(25):\n",
    "    plt.subplot(5,5, i+1)\n",
    "    plt.xticks([])\n",
    "    plt.yticks([])\n",
    "    plt.imshow(x_train[i], cmap=plt.cm.binary)\n",
    "    "
   ]
  },
  {
   "cell_type": "markdown",
   "metadata": {
    "papermill": {
     "duration": 0.033464,
     "end_time": "2021-03-17T08:27:14.364032",
     "exception": false,
     "start_time": "2021-03-17T08:27:14.330568",
     "status": "completed"
    },
    "tags": []
   },
   "source": [
    "## Build the model"
   ]
  },
  {
   "cell_type": "code",
   "execution_count": 15,
   "metadata": {
    "execution": {
     "iopub.execute_input": "2021-03-17T08:27:14.439511Z",
     "iopub.status.busy": "2021-03-17T08:27:14.438847Z",
     "iopub.status.idle": "2021-03-17T08:27:14.555727Z",
     "shell.execute_reply": "2021-03-17T08:27:14.555152Z"
    },
    "papermill": {
     "duration": 0.157576,
     "end_time": "2021-03-17T08:27:14.555864",
     "exception": false,
     "start_time": "2021-03-17T08:27:14.398288",
     "status": "completed"
    },
    "tags": []
   },
   "outputs": [],
   "source": [
    "batch_size=128\n",
    "epochs=10\n",
    "\n",
    "model=Sequential()\n",
    "model.add(layers.Conv2D(32, (3,3) , padding='same',activation='relu', input_shape=(28,28,1)))\n",
    "model.add(BatchNormalization())\n",
    "model.add(layers.MaxPooling2D(pool_size=(2,2)))\n",
    "\n",
    "model.add(Flatten())\n",
    "model.add(Dense(128, activation='relu'))\n",
    "model.add(Dense(10, activation='softmax'))"
   ]
  },
  {
   "cell_type": "markdown",
   "metadata": {
    "papermill": {
     "duration": 0.033244,
     "end_time": "2021-03-17T08:27:14.622948",
     "exception": false,
     "start_time": "2021-03-17T08:27:14.589704",
     "status": "completed"
    },
    "tags": []
   },
   "source": [
    "tf.keras.Flatten() transform the format of the image from two dimensional array into 1-D array . This layers has no parameters to  learn , it is used for reformat.\n",
    "tf.keras.Dense() is used for fully connected , neural network"
   ]
  },
  {
   "cell_type": "markdown",
   "metadata": {
    "papermill": {
     "duration": 0.033234,
     "end_time": "2021-03-17T08:27:14.689670",
     "exception": false,
     "start_time": "2021-03-17T08:27:14.656436",
     "status": "completed"
    },
    "tags": []
   },
   "source": [
    "## Compile the model \n",
    "1. loss function -This measures how accurate the model during training\n",
    "2. Optimizers- How the model is updated based on the data\n",
    "3. metrics- check the accuracy of the model (training)"
   ]
  },
  {
   "cell_type": "code",
   "execution_count": 16,
   "metadata": {
    "execution": {
     "iopub.execute_input": "2021-03-17T08:27:14.770242Z",
     "iopub.status.busy": "2021-03-17T08:27:14.768014Z",
     "iopub.status.idle": "2021-03-17T08:27:14.783479Z",
     "shell.execute_reply": "2021-03-17T08:27:14.782451Z"
    },
    "papermill": {
     "duration": 0.060467,
     "end_time": "2021-03-17T08:27:14.783719",
     "exception": false,
     "start_time": "2021-03-17T08:27:14.723252",
     "status": "completed"
    },
    "tags": []
   },
   "outputs": [
    {
     "name": "stdout",
     "output_type": "stream",
     "text": [
      "Model: \"sequential\"\n",
      "_________________________________________________________________\n",
      "Layer (type)                 Output Shape              Param #   \n",
      "=================================================================\n",
      "conv2d (Conv2D)              (None, 28, 28, 32)        320       \n",
      "_________________________________________________________________\n",
      "batch_normalization (BatchNo (None, 28, 28, 32)        128       \n",
      "_________________________________________________________________\n",
      "max_pooling2d (MaxPooling2D) (None, 14, 14, 32)        0         \n",
      "_________________________________________________________________\n",
      "flatten (Flatten)            (None, 6272)              0         \n",
      "_________________________________________________________________\n",
      "dense (Dense)                (None, 128)               802944    \n",
      "_________________________________________________________________\n",
      "dense_1 (Dense)              (None, 10)                1290      \n",
      "=================================================================\n",
      "Total params: 804,682\n",
      "Trainable params: 804,618\n",
      "Non-trainable params: 64\n",
      "_________________________________________________________________\n"
     ]
    }
   ],
   "source": [
    "model.compile(loss=keras.losses.SparseCategoricalCrossentropy(from_logits=True),\n",
    "            optimizer='adam',\n",
    "            metrics=['accuracy'] )\n",
    "model.summary()"
   ]
  },
  {
   "cell_type": "markdown",
   "metadata": {
    "papermill": {
     "duration": 0.034041,
     "end_time": "2021-03-17T08:27:14.853053",
     "exception": false,
     "start_time": "2021-03-17T08:27:14.819012",
     "status": "completed"
    },
    "tags": []
   },
   "source": [
    "### Train the model"
   ]
  },
  {
   "cell_type": "code",
   "execution_count": 17,
   "metadata": {
    "execution": {
     "iopub.execute_input": "2021-03-17T08:27:14.928062Z",
     "iopub.status.busy": "2021-03-17T08:27:14.927347Z",
     "iopub.status.idle": "2021-03-17T08:33:12.842993Z",
     "shell.execute_reply": "2021-03-17T08:33:12.842434Z"
    },
    "papermill": {
     "duration": 357.954417,
     "end_time": "2021-03-17T08:33:12.843132",
     "exception": false,
     "start_time": "2021-03-17T08:27:14.888715",
     "status": "completed"
    },
    "tags": []
   },
   "outputs": [
    {
     "name": "stdout",
     "output_type": "stream",
     "text": [
      "Epoch 1/10\n",
      "1875/1875 [==============================] - 36s 19ms/step - loss: 0.4535 - accuracy: 0.8435\n",
      "Epoch 2/10\n",
      "1875/1875 [==============================] - 35s 19ms/step - loss: 0.2203 - accuracy: 0.9191\n",
      "Epoch 3/10\n",
      "1875/1875 [==============================] - 36s 19ms/step - loss: 0.1749 - accuracy: 0.9361\n",
      "Epoch 4/10\n",
      "1875/1875 [==============================] - 35s 19ms/step - loss: 0.1407 - accuracy: 0.9464\n",
      "Epoch 5/10\n",
      "1875/1875 [==============================] - 36s 19ms/step - loss: 0.1102 - accuracy: 0.9589\n",
      "Epoch 6/10\n",
      "1875/1875 [==============================] - 36s 19ms/step - loss: 0.0908 - accuracy: 0.9670\n",
      "Epoch 7/10\n",
      "1875/1875 [==============================] - 36s 19ms/step - loss: 0.0730 - accuracy: 0.9729\n",
      "Epoch 8/10\n",
      "1875/1875 [==============================] - 36s 19ms/step - loss: 0.0653 - accuracy: 0.9773\n",
      "Epoch 9/10\n",
      "1875/1875 [==============================] - 36s 19ms/step - loss: 0.0509 - accuracy: 0.9814\n",
      "Epoch 10/10\n",
      "1875/1875 [==============================] - 36s 19ms/step - loss: 0.0461 - accuracy: 0.9837\n"
     ]
    }
   ],
   "source": [
    "history=model.fit(x_train ,y_train, epochs=epochs)"
   ]
  },
  {
   "cell_type": "markdown",
   "metadata": {
    "papermill": {
     "duration": 1.949327,
     "end_time": "2021-03-17T08:33:16.781422",
     "exception": false,
     "start_time": "2021-03-17T08:33:14.832095",
     "status": "completed"
    },
    "tags": []
   },
   "source": [
    "This mpdel give the auuracy 98% on the training data"
   ]
  },
  {
   "cell_type": "markdown",
   "metadata": {
    "papermill": {
     "duration": 1.979983,
     "end_time": "2021-03-17T08:33:20.702038",
     "exception": false,
     "start_time": "2021-03-17T08:33:18.722055",
     "status": "completed"
    },
    "tags": []
   },
   "source": [
    "## Evaluate the model"
   ]
  },
  {
   "cell_type": "code",
   "execution_count": 18,
   "metadata": {
    "execution": {
     "iopub.execute_input": "2021-03-17T08:33:24.570280Z",
     "iopub.status.busy": "2021-03-17T08:33:24.569655Z",
     "iopub.status.idle": "2021-03-17T08:33:26.465037Z",
     "shell.execute_reply": "2021-03-17T08:33:26.464414Z"
    },
    "papermill": {
     "duration": 3.832046,
     "end_time": "2021-03-17T08:33:26.465208",
     "exception": false,
     "start_time": "2021-03-17T08:33:22.633162",
     "status": "completed"
    },
    "tags": []
   },
   "outputs": [
    {
     "name": "stdout",
     "output_type": "stream",
     "text": [
      "313/313 - 2s - loss: 0.4546 - accuracy: 0.9158\n"
     ]
    }
   ],
   "source": [
    "test_loss, test_acc=model.evaluate(x_test, y_test, verbose=2)"
   ]
  },
  {
   "cell_type": "code",
   "execution_count": 19,
   "metadata": {
    "execution": {
     "iopub.execute_input": "2021-03-17T08:33:30.399029Z",
     "iopub.status.busy": "2021-03-17T08:33:30.398284Z",
     "iopub.status.idle": "2021-03-17T08:33:30.401774Z",
     "shell.execute_reply": "2021-03-17T08:33:30.401165Z"
    },
    "papermill": {
     "duration": 1.935965,
     "end_time": "2021-03-17T08:33:30.401911",
     "exception": false,
     "start_time": "2021-03-17T08:33:28.465946",
     "status": "completed"
    },
    "tags": []
   },
   "outputs": [
    {
     "name": "stdout",
     "output_type": "stream",
     "text": [
      "test loss 0.45460277795791626\n",
      "test_acc 0.9157999753952026\n"
     ]
    }
   ],
   "source": [
    "print(\"test loss\", test_loss)\n",
    "print('test_acc', test_acc)"
   ]
  },
  {
   "cell_type": "markdown",
   "metadata": {
    "papermill": {
     "duration": 1.924017,
     "end_time": "2021-03-17T08:33:34.245198",
     "exception": false,
     "start_time": "2021-03-17T08:33:32.321181",
     "status": "completed"
    },
    "tags": []
   },
   "source": [
    "Our training data give the accuracy ~98% and generalize 90% on unseen data "
   ]
  },
  {
   "cell_type": "markdown",
   "metadata": {
    "papermill": {
     "duration": 1.925959,
     "end_time": "2021-03-17T08:33:38.163846",
     "exception": false,
     "start_time": "2021-03-17T08:33:36.237887",
     "status": "completed"
    },
    "tags": []
   },
   "source": [
    "## check the loss and accuracy of the training data i plot figure"
   ]
  },
  {
   "cell_type": "code",
   "execution_count": 20,
   "metadata": {
    "execution": {
     "iopub.execute_input": "2021-03-17T08:33:42.083196Z",
     "iopub.status.busy": "2021-03-17T08:33:42.067838Z",
     "iopub.status.idle": "2021-03-17T08:33:42.232294Z",
     "shell.execute_reply": "2021-03-17T08:33:42.231754Z"
    },
    "papermill": {
     "duration": 2.144908,
     "end_time": "2021-03-17T08:33:42.232454",
     "exception": false,
     "start_time": "2021-03-17T08:33:40.087546",
     "status": "completed"
    },
    "tags": []
   },
   "outputs": [
    {
     "data": {
      "image/png": "[encoded data removed]",
      "text/plain": [
       "<Figure size 720x720 with 1 Axes>"
      ]
     },
     "metadata": {
      "needs_background": "light"
     },
     "output_type": "display_data"
    }
   ],
   "source": [
    "loss=history.history['loss']\n",
    "accuracy=history.history['accuracy']\n",
    "epochs1=range(0, len(accuracy))\n",
    "plt.figure(figsize=(10,10))\n",
    "plt.plot(epochs1, loss, label='training loss')\n",
    "plt.plot(epochs1, accuracy, label='training accuracy')\n",
    "plt.legend()\n",
    "plt.show()"
   ]
  },
  {
   "cell_type": "markdown",
   "metadata": {
    "papermill": {
     "duration": 1.91606,
     "end_time": "2021-03-17T08:33:46.068354",
     "exception": false,
     "start_time": "2021-03-17T08:33:44.152294",
     "status": "completed"
    },
    "tags": []
   },
   "source": [
    "Here, the model has predicted the label for each image in the testing set. Let's take a look at the first prediction:\n",
    "\n"
   ]
  },
  {
   "cell_type": "code",
   "execution_count": 21,
   "metadata": {
    "execution": {
     "iopub.execute_input": "2021-03-17T08:33:50.000303Z",
     "iopub.status.busy": "2021-03-17T08:33:49.999673Z",
     "iopub.status.idle": "2021-03-17T08:33:51.627445Z",
     "shell.execute_reply": "2021-03-17T08:33:51.626697Z"
    },
    "papermill": {
     "duration": 3.596952,
     "end_time": "2021-03-17T08:33:51.627591",
     "exception": false,
     "start_time": "2021-03-17T08:33:48.030639",
     "status": "completed"
    },
    "tags": []
   },
   "outputs": [],
   "source": [
    "predict=model.predict(x_test)\n"
   ]
  },
  {
   "cell_type": "code",
   "execution_count": 22,
   "metadata": {
    "execution": {
     "iopub.execute_input": "2021-03-17T08:33:55.489463Z",
     "iopub.status.busy": "2021-03-17T08:33:55.488795Z",
     "iopub.status.idle": "2021-03-17T08:33:55.492846Z",
     "shell.execute_reply": "2021-03-17T08:33:55.492309Z"
    },
    "papermill": {
     "duration": 1.935709,
     "end_time": "2021-03-17T08:33:55.492981",
     "exception": false,
     "start_time": "2021-03-17T08:33:53.557272",
     "status": "completed"
    },
    "tags": []
   },
   "outputs": [
    {
     "data": {
      "text/plain": [
       "array([1.0000000e+00, 1.0930822e-21, 3.8350594e-15, 9.9206328e-15,\n",
       "       4.0820868e-08, 4.6648555e-25, 5.5532208e-08, 7.7513110e-17,\n",
       "       1.8645684e-19, 1.0248782e-16], dtype=float32)"
      ]
     },
     "execution_count": 22,
     "metadata": {},
     "output_type": "execute_result"
    }
   ],
   "source": [
    "predict[0]"
   ]
  },
  {
   "cell_type": "markdown",
   "metadata": {
    "papermill": {
     "duration": 2.057769,
     "end_time": "2021-03-17T08:33:59.482756",
     "exception": false,
     "start_time": "2021-03-17T08:33:57.424987",
     "status": "completed"
    },
    "tags": []
   },
   "source": [
    "A prediction is an array of 10 numbers .They represent the model confidense becoz data contain the 10 different catefories."
   ]
  },
  {
   "cell_type": "code",
   "execution_count": 23,
   "metadata": {
    "execution": {
     "iopub.execute_input": "2021-03-17T08:34:03.353751Z",
     "iopub.status.busy": "2021-03-17T08:34:03.353059Z",
     "iopub.status.idle": "2021-03-17T08:34:03.357634Z",
     "shell.execute_reply": "2021-03-17T08:34:03.357137Z"
    },
    "papermill": {
     "duration": 1.939517,
     "end_time": "2021-03-17T08:34:03.357785",
     "exception": false,
     "start_time": "2021-03-17T08:34:01.418268",
     "status": "completed"
    },
    "tags": []
   },
   "outputs": [
    {
     "data": {
      "text/plain": [
       "0"
      ]
     },
     "execution_count": 23,
     "metadata": {},
     "output_type": "execute_result"
    }
   ],
   "source": [
    "np.argmax(predict[0])"
   ]
  },
  {
   "cell_type": "code",
   "execution_count": 24,
   "metadata": {
    "execution": {
     "iopub.execute_input": "2021-03-17T08:34:07.267733Z",
     "iopub.status.busy": "2021-03-17T08:34:07.266759Z",
     "iopub.status.idle": "2021-03-17T08:34:07.272133Z",
     "shell.execute_reply": "2021-03-17T08:34:07.271629Z"
    },
    "papermill": {
     "duration": 1.938458,
     "end_time": "2021-03-17T08:34:07.272280",
     "exception": false,
     "start_time": "2021-03-17T08:34:05.333822",
     "status": "completed"
    },
    "tags": []
   },
   "outputs": [
    {
     "data": {
      "text/plain": [
       "0.0"
      ]
     },
     "execution_count": 24,
     "metadata": {},
     "output_type": "execute_result"
    }
   ],
   "source": [
    "y_test[0]"
   ]
  },
  {
   "cell_type": "markdown",
   "metadata": {
    "papermill": {
     "duration": 1.93244,
     "end_time": "2021-03-17T08:34:11.171913",
     "exception": false,
     "start_time": "2021-03-17T08:34:09.239473",
     "status": "completed"
    },
    "tags": []
   },
   "source": [
    "## Add Dropout layer "
   ]
  },
  {
   "cell_type": "code",
   "execution_count": 25,
   "metadata": {
    "execution": {
     "iopub.execute_input": "2021-03-17T08:34:15.107698Z",
     "iopub.status.busy": "2021-03-17T08:34:15.107017Z",
     "iopub.status.idle": "2021-03-17T08:34:15.170468Z",
     "shell.execute_reply": "2021-03-17T08:34:15.170989Z"
    },
    "papermill": {
     "duration": 2.011254,
     "end_time": "2021-03-17T08:34:15.171164",
     "exception": false,
     "start_time": "2021-03-17T08:34:13.159910",
     "status": "completed"
    },
    "tags": []
   },
   "outputs": [],
   "source": [
    "batch_size=128\n",
    "epochs=10\n",
    "\n",
    "model=Sequential()\n",
    "model.add(layers.Conv2D(32, (3,3) , padding='same',activation='relu', input_shape=(28,28,1)))\n",
    "model.add(BatchNormalization())\n",
    "model.add(layers.MaxPooling2D(pool_size=(2,2)))\n",
    "\n",
    "model.add(Flatten())\n",
    "model.add(Dense(128, activation='relu'))\n",
    "model.add(BatchNormalization())\n",
    "model.add(Dropout(0.25))\n",
    "model.add(Dense(10, activation='softmax'))"
   ]
  },
  {
   "cell_type": "code",
   "execution_count": 26,
   "metadata": {
    "execution": {
     "iopub.execute_input": "2021-03-17T08:34:19.088964Z",
     "iopub.status.busy": "2021-03-17T08:34:19.088028Z",
     "iopub.status.idle": "2021-03-17T08:34:19.097924Z",
     "shell.execute_reply": "2021-03-17T08:34:19.097345Z"
    },
    "papermill": {
     "duration": 1.997985,
     "end_time": "2021-03-17T08:34:19.098063",
     "exception": false,
     "start_time": "2021-03-17T08:34:17.100078",
     "status": "completed"
    },
    "tags": []
   },
   "outputs": [
    {
     "name": "stdout",
     "output_type": "stream",
     "text": [
      "Model: \"sequential_1\"\n",
      "_________________________________________________________________\n",
      "Layer (type)                 Output Shape              Param #   \n",
      "=================================================================\n",
      "conv2d_1 (Conv2D)            (None, 28, 28, 32)        320       \n",
      "_________________________________________________________________\n",
      "batch_normalization_1 (Batch (None, 28, 28, 32)        128       \n",
      "_________________________________________________________________\n",
      "max_pooling2d_1 (MaxPooling2 (None, 14, 14, 32)        0         \n",
      "_________________________________________________________________\n",
      "flatten_1 (Flatten)          (None, 6272)              0         \n",
      "_________________________________________________________________\n",
      "dense_2 (Dense)              (None, 128)               802944    \n",
      "_________________________________________________________________\n",
      "batch_normalization_2 (Batch (None, 128)               512       \n",
      "_________________________________________________________________\n",
      "dropout (Dropout)            (None, 128)               0         \n",
      "_________________________________________________________________\n",
      "dense_3 (Dense)              (None, 10)                1290      \n",
      "=================================================================\n",
      "Total params: 805,194\n",
      "Trainable params: 804,874\n",
      "Non-trainable params: 320\n",
      "_________________________________________________________________\n"
     ]
    }
   ],
   "source": [
    "model.compile(loss=keras.losses.SparseCategoricalCrossentropy(from_logits=True),\n",
    "            optimizer='adam',\n",
    "            metrics=['accuracy'] )\n",
    "model.summary()"
   ]
  },
  {
   "cell_type": "code",
   "execution_count": 27,
   "metadata": {
    "execution": {
     "iopub.execute_input": "2021-03-17T08:34:22.987366Z",
     "iopub.status.busy": "2021-03-17T08:34:22.986703Z",
     "iopub.status.idle": "2021-03-17T08:40:30.235552Z",
     "shell.execute_reply": "2021-03-17T08:40:30.234291Z"
    },
    "papermill": {
     "duration": 369.174904,
     "end_time": "2021-03-17T08:40:30.235847",
     "exception": false,
     "start_time": "2021-03-17T08:34:21.060943",
     "status": "completed"
    },
    "tags": []
   },
   "outputs": [
    {
     "name": "stdout",
     "output_type": "stream",
     "text": [
      "Epoch 1/10\n",
      "1875/1875 [==============================] - 37s 19ms/step - loss: 0.4894 - accuracy: 0.8277\n",
      "Epoch 2/10\n",
      "1875/1875 [==============================] - 36s 19ms/step - loss: 0.2843 - accuracy: 0.8970\n",
      "Epoch 3/10\n",
      "1875/1875 [==============================] - 37s 20ms/step - loss: 0.2386 - accuracy: 0.9118\n",
      "Epoch 4/10\n",
      "1875/1875 [==============================] - 37s 20ms/step - loss: 0.2107 - accuracy: 0.9224\n",
      "Epoch 5/10\n",
      "1875/1875 [==============================] - 37s 20ms/step - loss: 0.1928 - accuracy: 0.9299\n",
      "Epoch 6/10\n",
      "1875/1875 [==============================] - 37s 20ms/step - loss: 0.1808 - accuracy: 0.9339\n",
      "Epoch 7/10\n",
      "1875/1875 [==============================] - 36s 19ms/step - loss: 0.1622 - accuracy: 0.9408\n",
      "Epoch 8/10\n",
      "1875/1875 [==============================] - 37s 20ms/step - loss: 0.1415 - accuracy: 0.9477\n",
      "Epoch 9/10\n",
      "1875/1875 [==============================] - 37s 20ms/step - loss: 0.1290 - accuracy: 0.9519\n",
      "Epoch 10/10\n",
      "1875/1875 [==============================] - 37s 20ms/step - loss: 0.1190 - accuracy: 0.9567\n"
     ]
    }
   ],
   "source": [
    "history=model.fit(x_train ,y_train, epochs=epochs)"
   ]
  },
  {
   "cell_type": "code",
   "execution_count": 28,
   "metadata": {
    "execution": {
     "iopub.execute_input": "2021-03-17T08:40:38.155448Z",
     "iopub.status.busy": "2021-03-17T08:40:38.154810Z",
     "iopub.status.idle": "2021-03-17T08:40:39.913826Z",
     "shell.execute_reply": "2021-03-17T08:40:39.913134Z"
    },
    "papermill": {
     "duration": 5.762786,
     "end_time": "2021-03-17T08:40:39.913970",
     "exception": false,
     "start_time": "2021-03-17T08:40:34.151184",
     "status": "completed"
    },
    "tags": []
   },
   "outputs": [
    {
     "name": "stdout",
     "output_type": "stream",
     "text": [
      "313/313 - 2s - loss: 0.2432 - accuracy: 0.9219\n"
     ]
    }
   ],
   "source": [
    "test_loss, test_acc=model.evaluate(x_test, y_test, verbose=2)"
   ]
  },
  {
   "cell_type": "markdown",
   "metadata": {
    "papermill": {
     "duration": 3.948091,
     "end_time": "2021-03-17T08:40:47.713862",
     "exception": false,
     "start_time": "2021-03-17T08:40:43.765771",
     "status": "completed"
    },
    "tags": []
   },
   "source": [
    "When we add a dropout layer in CNN , this give the accuracy 95.5% on the training data and generalize the ~92% on the unseen data"
   ]
  },
  {
   "cell_type": "code",
   "execution_count": 29,
   "metadata": {
    "execution": {
     "iopub.execute_input": "2021-03-17T08:40:55.450909Z",
     "iopub.status.busy": "2021-03-17T08:40:55.449975Z",
     "iopub.status.idle": "2021-03-17T08:40:55.453281Z",
     "shell.execute_reply": "2021-03-17T08:40:55.453794Z"
    },
    "papermill": {
     "duration": 3.902552,
     "end_time": "2021-03-17T08:40:55.453962",
     "exception": false,
     "start_time": "2021-03-17T08:40:51.551410",
     "status": "completed"
    },
    "tags": []
   },
   "outputs": [
    {
     "name": "stdout",
     "output_type": "stream",
     "text": [
      "loss 0.24318374693393707\n",
      "test Accuracy 0.9218999743461609\n"
     ]
    }
   ],
   "source": [
    "print(\"loss\", test_loss)\n",
    "print(\"test Accuracy\", test_acc)"
   ]
  },
  {
   "cell_type": "code",
   "execution_count": 30,
   "metadata": {
    "execution": {
     "iopub.execute_input": "2021-03-17T08:41:03.255480Z",
     "iopub.status.busy": "2021-03-17T08:41:03.253411Z",
     "iopub.status.idle": "2021-03-17T08:41:03.396970Z",
     "shell.execute_reply": "2021-03-17T08:41:03.397449Z"
    },
    "papermill": {
     "duration": 4.036777,
     "end_time": "2021-03-17T08:41:03.397618",
     "exception": false,
     "start_time": "2021-03-17T08:40:59.360841",
     "status": "completed"
    },
    "tags": []
   },
   "outputs": [
    {
     "data": {
      "image/png": "[encoded data removed]",
      "text/plain": [
       "<Figure size 720x720 with 1 Axes>"
      ]
     },
     "metadata": {
      "needs_background": "light"
     },
     "output_type": "display_data"
    }
   ],
   "source": [
    "loss=history.history['loss']\n",
    "accuracy=history.history['accuracy']\n",
    "epochs1=range(0, len(accuracy))\n",
    "plt.figure(figsize=(10,10))\n",
    "plt.plot(epochs1, loss,'bo', label='training loss')\n",
    "plt.plot(epochs1, accuracy,'b', label='training accuracy')\n",
    "plt.legend()\n",
    "plt.grid(False)\n",
    "plt.show()"
   ]
  },
  {
   "cell_type": "code",
   "execution_count": 31,
   "metadata": {
    "execution": {
     "iopub.execute_input": "2021-03-17T08:41:11.179918Z",
     "iopub.status.busy": "2021-03-17T08:41:11.178719Z",
     "iopub.status.idle": "2021-03-17T08:41:12.779645Z",
     "shell.execute_reply": "2021-03-17T08:41:12.779041Z"
    },
    "papermill": {
     "duration": 5.455865,
     "end_time": "2021-03-17T08:41:12.779853",
     "exception": false,
     "start_time": "2021-03-17T08:41:07.323988",
     "status": "completed"
    },
    "tags": []
   },
   "outputs": [],
   "source": [
    "predict=model.predict(x_test)"
   ]
  },
  {
   "cell_type": "code",
   "execution_count": 32,
   "metadata": {
    "execution": {
     "iopub.execute_input": "2021-03-17T08:41:20.559250Z",
     "iopub.status.busy": "2021-03-17T08:41:20.557146Z",
     "iopub.status.idle": "2021-03-17T08:41:20.563552Z",
     "shell.execute_reply": "2021-03-17T08:41:20.564049Z"
    },
    "papermill": {
     "duration": 3.894242,
     "end_time": "2021-03-17T08:41:20.564236",
     "exception": false,
     "start_time": "2021-03-17T08:41:16.669994",
     "status": "completed"
    },
    "tags": []
   },
   "outputs": [
    {
     "data": {
      "text/plain": [
       "0"
      ]
     },
     "execution_count": 32,
     "metadata": {},
     "output_type": "execute_result"
    }
   ],
   "source": [
    "np.argmax(predict[0])"
   ]
  },
  {
   "cell_type": "code",
   "execution_count": 33,
   "metadata": {
    "execution": {
     "iopub.execute_input": "2021-03-17T08:41:28.352428Z",
     "iopub.status.busy": "2021-03-17T08:41:28.351802Z",
     "iopub.status.idle": "2021-03-17T08:41:28.356468Z",
     "shell.execute_reply": "2021-03-17T08:41:28.356922Z"
    },
    "papermill": {
     "duration": 3.907526,
     "end_time": "2021-03-17T08:41:28.357099",
     "exception": false,
     "start_time": "2021-03-17T08:41:24.449573",
     "status": "completed"
    },
    "tags": []
   },
   "outputs": [
    {
     "data": {
      "text/plain": [
       "0.0"
      ]
     },
     "execution_count": 33,
     "metadata": {},
     "output_type": "execute_result"
    }
   ],
   "source": [
    "y_test[0]"
   ]
  },
  {
   "cell_type": "code",
   "execution_count": 34,
   "metadata": {
    "execution": {
     "iopub.execute_input": "2021-03-17T08:41:36.089695Z",
     "iopub.status.busy": "2021-03-17T08:41:36.089106Z",
     "iopub.status.idle": "2021-03-17T08:41:36.094204Z",
     "shell.execute_reply": "2021-03-17T08:41:36.093697Z"
    },
    "papermill": {
     "duration": 3.822153,
     "end_time": "2021-03-17T08:41:36.094343",
     "exception": false,
     "start_time": "2021-03-17T08:41:32.272190",
     "status": "completed"
    },
    "tags": []
   },
   "outputs": [],
   "source": [
    "## Thanks for reading this notebook, If this notebook is useful, please comment\n"
   ]
  },
  {
   "cell_type": "code",
   "execution_count": null,
   "metadata": {
    "papermill": {
     "duration": 3.828169,
     "end_time": "2021-03-17T08:41:43.808185",
     "exception": false,
     "start_time": "2021-03-17T08:41:39.980016",
     "status": "completed"
    },
    "tags": []
   },
   "outputs": [],
   "source": []
  }
 ],
 "metadata": {
  "kernelspec": {
   "display_name": "Python 3",
   "language": "python",
   "name": "python3"
  },
  "language_info": {
   "codemirror_mode": {
    "name": "ipython",
    "version": 3
   },
   "file_extension": ".py",
   "mimetype": "text/x-python",
   "name": "python",
   "nbconvert_exporter": "python",
   "pygments_lexer": "ipython3",
   "version": "3.7.9"
  },
  "papermill": {
   "default_parameters": {},
   "duration": 897.869693,
   "end_time": "2021-03-17T08:41:48.902827",
   "environment_variables": {},
   "exception": null,
   "input_path": "__notebook__.ipynb",
   "output_path": "__notebook__.ipynb",
   "parameters": {},
   "start_time": "2021-03-17T08:26:51.033134",
   "version": "2.2.2"
  }
 },
 "nbformat": 4,
 "nbformat_minor": 4
}
